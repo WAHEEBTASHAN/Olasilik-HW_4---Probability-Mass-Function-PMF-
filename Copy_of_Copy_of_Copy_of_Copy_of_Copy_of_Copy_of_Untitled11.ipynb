{
  "nbformat": 4,
  "nbformat_minor": 0,
  "metadata": {
    "colab": {
      "name": "Copy of Copy of Copy of Copy of Copy of Copy of Untitled11.ipynb",
      "version": "0.3.2",
      "provenance": [],
      "collapsed_sections": [],
      "include_colab_link": true
    },
    "kernelspec": {
      "name": "python3",
      "display_name": "Python 3"
    }
  },
  "cells": [
    {
      "cell_type": "markdown",
      "metadata": {
        "id": "view-in-github",
        "colab_type": "text"
      },
      "source": [
        "<a href=\"https://colab.research.google.com/github/WAHEEBTASHAN/Olasilik-HW_4---Probability-Mass-Function-PMF-/blob/master/Copy_of_Copy_of_Copy_of_Copy_of_Copy_of_Copy_of_Untitled11.ipynb\" target=\"_parent\"><img src=\"https://colab.research.google.com/assets/colab-badge.svg\" alt=\"Open In Colab\"/></a>"
      ]
    },
    {
      "cell_type": "code",
      "metadata": {
        "id": "Y6o3yvwr1up0",
        "colab_type": "code",
        "colab": {}
      },
      "source": [
        ""
      ],
      "execution_count": 0,
      "outputs": []
    },
    {
      "cell_type": "markdown",
      "metadata": {
        "id": "cfpuMbpe1xBA",
        "colab_type": "text"
      },
      "source": [
        "**Probability Mass Function (PMF)**\n",
        "\n",
        "Probability mass function refers to discrete probabilities. Also is a function that gives the probability that a discrete random variable is exactly equal to some value. The probability mass function is often the primary means of defining a discrete probability distribution, and such functions exist for either scalar or multivariate random variables whose domain is discrete. A probability mass function differs from a probability density function (PDF) in that the latter is associated with continuous rather than discrete random variables; the values of the probability density function are not probabilities as such: a PDF must be integrated over an interval to yield a probability\n",
        "\n",
        "**Properties of PMF:**\n",
        "\n",
        "1- Non-negativity:   PX(x)>= 0  for any x belong to real numbers\n",
        "\n",
        "2-  The sum of all probabilities is 100% (i.e. 1 as a decimal): Σfx(x) = 1.\n",
        "\n",
        "![alt text](https://github.com/WAHEEBTASHAN/Olasilik-HW_4---Probability-Mass-Function-PMF-/blob/master/PMF%20photo.JPG?raw=true)\n",
        "\n",
        "for the PMF's  figure  which shown above, All the values of this function must be non-negative and sum up to 1.\n",
        "\n",
        "**Example **\n",
        "\n",
        "Lets X be a rondom variable and Fis PMF  given by :\n",
        "\n",
        "![alt text](https://github.com/WAHEEBTASHAN/Olasilik-HW_4---Probability-Mass-Function-PMF-/blob/master/example%20table.JPG?raw=true)\n",
        "\n",
        "i) find k?\n",
        "\n",
        "ii) Find probabilities  for:\n",
        "\n",
        "1-P(x<=6),\n",
        "\n",
        "2- P(3<x<=6)\n",
        "\n",
        "3- p(3<x / x<=6)\n",
        "\n",
        "**SOLUTION**\n",
        "\n",
        "Before solving this problem we have to take in to our consideration the properties of PMF which have been mentioned above. \n",
        "\n",
        "i) The summition of all the probabilities of mass function has to be =1 so \n",
        "\n",
        "0+k+2k+2k+3k+k^2+2k^2+7k^2+k=1\n",
        "\n",
        "= 10k^2+10k-k-1=0\n",
        "\n",
        "(10k-1)(k+1)=0\n",
        "\n",
        "k= -1 ( invalid because the value is negative )\n",
        "\n",
        "k= 1/10 (the vallue of k)\n",
        "\n",
        "ii) P(x<=6)\n",
        "\n",
        " The probability of \n",
        " 1- P(x<=6) is = 1- P(x>6)\n",
        "\n",
        "(1- P(x>6))= 1-( 7/100+1/10)= 83/100\n",
        "\n",
        "2-  P(3<x<=6):\n",
        "\n",
        "P(3<x<=6)= P(4)+P(5)+P(6)= (3/10)+(1/100)+(2/100)=33/100\n",
        "\n",
        "3- p(3<x / x<=6)\n",
        "\n",
        "\n",
        " p(3<x / x<=6)= 3<x and x<=6)/ p(x<=6)=  (3<x<=6)/p(x<=6)= (33/100)/(83/100)=33/83 \n",
        "\n",
        "The below graph shows a rondom variable and Fis PMF\n",
        "![alt text](https://github.com/WAHEEBTASHAN/Olasilik-HW_4---Probability-Mass-Function-PMF-/blob/master/PMF%20GARPH.JPG?raw=true)"
      ]
    },
    {
      "cell_type": "code",
      "metadata": {
        "id": "ggyOJjn3fQXd",
        "colab_type": "code",
        "outputId": "f0273c30-5617-497c-c769-d48ab08e6a9f",
        "colab": {
          "base_uri": "https://localhost:8080/",
          "height": 108
        }
      },
      "source": [
        "import math\n",
        "import numpy\n",
        "\n",
        "print(\"===========Probability Mass Function==========\")\n",
        "print(\"Enter number of variables between 0 to 7\")\n",
        "X = int(input())\n",
        "if X < 0:\n",
        "    print(\"Wrong Entry: Try again\")\n",
        "    exit(1)\n",
        "print(\"The variables are in between 0 and 7\")\n",
        "if X <= 6:\n",
        "    print(\"The probability of P(x<=6)= \",83/100)\n",
        "elif X>3 and X<=6:\n",
        "  \n",
        "    print(\"The probability of P(3<x<=6)= \",33/100)\n",
        "\n",
        "   \n",
        "    if X > 7:\n",
        "        print(\" INVALIDE\\n\")\n",
        "    else:\n",
        "        print(\"Minimum number of people having the same alphbets:\\n \", result + 1)\n"
      ],
      "execution_count": 0,
      "outputs": [
        {
          "output_type": "stream",
          "text": [
            "===========Probability Mass Function==========\n",
            "Enter number of variables between 0 to 7\n",
            "4\n",
            "The variables are in between 0 and 7\n",
            "The probability of P(x<=6)=  0.83\n"
          ],
          "name": "stdout"
        }
      ]
    }
  ]
}